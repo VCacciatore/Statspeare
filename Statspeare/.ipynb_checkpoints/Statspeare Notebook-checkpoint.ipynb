{
 "cells": [
  {
   "cell_type": "markdown",
   "id": "c3e72f5b",
   "metadata": {},
   "source": [
    "# Statspeare\n",
    "\n",
    "The following is a series of data exploration and analysis in regards to the works of William Shakespeare. Data is taken from the public Folger Shakespeare API which can be accessed here: https://www.folgerdigitaltexts.org/api?_ga=2.253225545.110838517.1589207285-56030160.1526399691. <br><br> The main data analyzed here is the number of words a given character speaks in a play. Analyses on word distribution within a play and between plays will be analyzed. "
   ]
  },
  {
   "cell_type": "markdown",
   "id": "60bf4d35",
   "metadata": {},
   "source": [
    "## Shortcomings and Disclaimers\n",
    "### Word Count\n",
    "There are a few shortcomings when looking at word distribution to determine how much a character speaks in a play. For instance, characters who talk with more simple prose using smaller words will have an easier time getting a higher count than characters that talk more eloquently. \n",
    "\n",
    "Some might ask why not use line count instead of word count, however, I do not think line count is any more accurate than word count when trying to get a quantitative number for how much a a character speaks in a play. A major issue with line count is the inconsistency when counting lines of prose. Where as it is easy to count the number of verse lines in a play (i.e. one line of iambic pentameter = one line) there is not an accurate way to translate that into counting lines of prose (lines in non-iambic pentameter). Second, there is not a verified database to retrieve line ocunt information. While there are a few online resources that put out some statistics like ShakespeareWords.com (https://www.shakespeareswords.com/Public/LanguageCompanion/CharactersParts.aspx), these are not from verified Shakespeare institutions. Furthermore, I cannot verify how these sources retrieve this information and how lines of prose are counted so those numbers have been dismissed. \n",
    "\n",
    "### Genre\n",
    "When discussing the Shakespeare canon it is common to group Shakespeare's plays by genre. In the First Folio (the first collection of all of Shakespeare's plays), the plays were grouped in three categories: Comedy, Histories, and Tragedies. However, two of Shakespeare plays now considered to be part of his canon, *Pericles* and *Two Noble Kinsmen* were not in the First Folio. As Shakespeare scholarshipped progressed through the ages plays that border on the line of comedy and tragedy started to create their own genres and subgenres. Shakespeare's late plays such as *Cymbeline*, *The Winter's Tale*, and *The Temnpest* are often listed in their own genre. This fourth genre is often dubbed *Romances* with some occasionally referring to them as *Tragicomedies*. Another popular sub-genre is the *Problem-Play* to refer to plays in the middle of Shakespeare's career that have higher stakes, a pessimistic outlook, and controversial subject matter and endings such as *Measure for Measure*, *All's Well that Ends Well* and *Troilus and Cressida*. Problem-plays are often treated as a subgenre of the Comedies genre and thus these three plays are will be listed in the comedies in modern day Complete Works (as they were in the First Folio except for *Troilus and Cressida* which was placed with the tragedies although was left out of the table of contents). When adding genre as a column I defaulted to my personal copy of the Complete Works (the 7th edition edited by David Bevington) which uses Comedies, Histories Tragedies, and Romances as the four genres.    "
   ]
  },
  {
   "cell_type": "code",
   "execution_count": null,
   "id": "0031c319",
   "metadata": {},
   "outputs": [],
   "source": []
  }
 ],
 "metadata": {
  "kernelspec": {
   "display_name": "Python 3 (ipykernel)",
   "language": "python",
   "name": "python3"
  },
  "language_info": {
   "codemirror_mode": {
    "name": "ipython",
    "version": 3
   },
   "file_extension": ".py",
   "mimetype": "text/x-python",
   "name": "python",
   "nbconvert_exporter": "python",
   "pygments_lexer": "ipython3",
   "version": "3.9.13"
  }
 },
 "nbformat": 4,
 "nbformat_minor": 5
}
